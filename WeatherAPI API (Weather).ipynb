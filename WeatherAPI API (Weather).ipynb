{
 "cells": [
  {
   "cell_type": "markdown",
   "metadata": {},
   "source": [
    "# WeatherAPI (Weather)\n",
    "\n",
    "Answer the following questions using [WeatherAPI](http://www.weatherapi.com/). I've added three cells for most questions but you're free to use more or less! Hold `Shift` and hit `Enter` to run a cell, and use the `+` on the top left to add a new cell to a notebook.\n",
    "\n",
    "Be sure to take advantage of both the documentation and the API Explorer!\n",
    "\n",
    "## 0) Import any libraries you might need\n",
    "\n",
    "- *Tip: We're going to be downloading things from the internet, so we probably need `requests`.*\n",
    "- *Tip: Remember you only need to import requests once!*"
   ]
  },
  {
   "cell_type": "code",
   "execution_count": 1,
   "metadata": {},
   "outputs": [],
   "source": [
    "import requests"
   ]
  },
  {
   "cell_type": "markdown",
   "metadata": {
    "collapsed": true
   },
   "source": [
    "## 1) Make a request to the Weather API for where you were born (or lived, or want to visit!).\n",
    "\n",
    "- *Tip: The URL we used in class was for a place near San Francisco. What was the format of the endpoint that made this happen?*\n",
    "- *Tip: Save the URL as a separate variable, and be sure to not have `[` and `]` inside.*\n",
    "- *Tip: How is north vs. south and east vs. west latitude/longitude represented? Is it the normal North/South/East/West?*\n",
    "- *Tip: You know it's JSON, but Python doesn't! Make sure you aren't trying to deal with plain text.* \n",
    "- *Tip: Once you've imported the JSON into a variable, check the timezone's name to make sure it seems like it got the right part of the world!*"
   ]
  },
  {
   "cell_type": "code",
   "execution_count": 2,
   "metadata": {},
   "outputs": [],
   "source": [
    "vasai_url = \"https://api.weatherapi.com/v1/current.json?key=e9e2ab61a22a4e12b81111053221506&q=Vasai&aqi=no\""
   ]
  },
  {
   "cell_type": "code",
   "execution_count": 3,
   "metadata": {},
   "outputs": [],
   "source": [
    "response_vasai = requests.get(vasai_url)"
   ]
  },
  {
   "cell_type": "code",
   "execution_count": 4,
   "metadata": {},
   "outputs": [],
   "source": [
    "vasai_weather = response_vasai.json()"
   ]
  },
  {
   "cell_type": "markdown",
   "metadata": {},
   "source": [
    "## 2) What's the current wind speed? How much warmer does it feel than it actually is?\n",
    "\n",
    "- *Tip: You can do this by browsing through the dictionaries, but it might be easier to read the documentation*\n",
    "- *Tip: For the second half: it **is** one temperature, and it **feels** a different temperature. Calculate the difference.*"
   ]
  },
  {
   "cell_type": "code",
   "execution_count": 5,
   "metadata": {},
   "outputs": [
    {
     "name": "stdout",
     "output_type": "stream",
     "text": [
      "The current wind speed is 20.5 kilometres per hour\n"
     ]
    }
   ],
   "source": [
    "print(f\"The current wind speed is {vasai_weather['current']['wind_kph']} kilometres per hour\")"
   ]
  },
  {
   "cell_type": "code",
   "execution_count": 6,
   "metadata": {},
   "outputs": [],
   "source": [
    "diff=vasai_weather['current']['temp_c']-vasai_weather['current']['feelslike_c']"
   ]
  },
  {
   "cell_type": "code",
   "execution_count": 7,
   "metadata": {},
   "outputs": [
    {
     "name": "stdout",
     "output_type": "stream",
     "text": [
      "It feels 4.8 degrees warmer in Vasai\n"
     ]
    }
   ],
   "source": [
    "if diff>0:\n",
    "    print(f\"It feels {diff:.1f} degrees colder in {vasai_weather['location']['name']}\")\n",
    "else:\n",
    "    print(f\"It feels {abs(diff):.1f} degrees warmer in {vasai_weather['location']['name']}\")"
   ]
  },
  {
   "cell_type": "markdown",
   "metadata": {},
   "source": [
    "## 3) What is the API endpoint for moon-related information? For the place you decided on above, how much of the moon will be visible tomorrow?\n",
    "\n",
    "- *Tip: Check the documentation!*\n",
    "- *Tip: If you aren't sure what something means, ask in Slack*"
   ]
  },
  {
   "cell_type": "markdown",
   "metadata": {},
   "source": [
    "The API endpoint for moon-related information is https://api.weatherapi.com/v1/astronomy.json. For data on moon's visibility tomorrow, changing the date of request"
   ]
  },
  {
   "cell_type": "code",
   "execution_count": 8,
   "metadata": {},
   "outputs": [],
   "source": [
    "vasai_moon= \"https://api.weatherapi.com/v1/astronomy.json?key=e9e2ab61a22a4e12b81111053221506&q=vasai&dt=2022-06-19\""
   ]
  },
  {
   "cell_type": "code",
   "execution_count": 9,
   "metadata": {},
   "outputs": [],
   "source": [
    "response_moon= requests.get(vasai_moon)"
   ]
  },
  {
   "cell_type": "code",
   "execution_count": 10,
   "metadata": {},
   "outputs": [],
   "source": [
    "moon= response_moon.json()"
   ]
  },
  {
   "cell_type": "markdown",
   "metadata": {},
   "source": [
    "As per the documentation, data on moon illumination is in the 'astro' key within the 'astronomy' key of the directory we requested. Printing that out."
   ]
  },
  {
   "cell_type": "code",
   "execution_count": 11,
   "metadata": {},
   "outputs": [
    {
     "name": "stdout",
     "output_type": "stream",
     "text": [
      "66% of moon will be visible tomorrow\n"
     ]
    }
   ],
   "source": [
    "print(f\"{moon['astronomy']['astro']['moon_illumination']}% of moon will be visible tomorrow\")\n"
   ]
  },
  {
   "cell_type": "markdown",
   "metadata": {},
   "source": [
    "## 4) What's the difference between the high and low temperatures for today?\n",
    "\n",
    "- *Tip: When you requested moon data, you probably overwrote your variables! If so, you'll need to make a new request.*"
   ]
  },
  {
   "cell_type": "markdown",
   "metadata": {},
   "source": [
    "I did not rewrite the variables so do not have to make a new request. But data on high and low temperatures are in the Forecast API. Requesting that"
   ]
  },
  {
   "cell_type": "code",
   "execution_count": 12,
   "metadata": {},
   "outputs": [],
   "source": [
    "forecast_url=\"https://api.weatherapi.com/v1/forecast.json?key=e9e2ab61a22a4e12b81111053221506&q=vasai&days=3&aqi=no&alerts=no\""
   ]
  },
  {
   "cell_type": "code",
   "execution_count": 13,
   "metadata": {},
   "outputs": [],
   "source": [
    "response_forecast=requests.get(forecast_url)"
   ]
  },
  {
   "cell_type": "code",
   "execution_count": 14,
   "metadata": {},
   "outputs": [],
   "source": [
    "vasai_forecast=response_forecast.json()"
   ]
  },
  {
   "cell_type": "markdown",
   "metadata": {},
   "source": [
    "As per the documentation, maximum and minimum temperatures are in the 'day' element inside 'forecastday' list in 'forecast' dictionary. Extracting the data"
   ]
  },
  {
   "cell_type": "code",
   "execution_count": 15,
   "metadata": {},
   "outputs": [],
   "source": [
    "max_temp=vasai_forecast['forecast']['forecastday'][0]['day']['maxtemp_c']\n",
    "min_temp=vasai_forecast['forecast']['forecastday'][0]['day']['mintemp_c']\n",
    "difference=(max_temp-min_temp)"
   ]
  },
  {
   "cell_type": "code",
   "execution_count": 16,
   "metadata": {},
   "outputs": [
    {
     "name": "stdout",
     "output_type": "stream",
     "text": [
      "The difference between the high and low temperatures for today is 4.30 degree celsius\n"
     ]
    }
   ],
   "source": [
    "print(f\"The difference between the high and low temperatures for today is {difference:.2f} degree celsius\")\n"
   ]
  },
  {
   "cell_type": "markdown",
   "metadata": {
    "collapsed": true
   },
   "source": [
    "## 4.5) How can you avoid the \"oh no I don't have the data any more because I made another request\" problem in the future?\n",
    "\n",
    "What variable(s) do you have to rename, and what would you rename them?"
   ]
  },
  {
   "cell_type": "markdown",
   "metadata": {},
   "source": [
    "I renamed the variables every time I made a request and will continue to do so to avoid this problem"
   ]
  },
  {
   "cell_type": "markdown",
   "metadata": {},
   "source": [
    "## 5) Go through the daily forecasts, printing out the next three days' worth of predictions.\n",
    "\n",
    "I'd like to know the **high temperature** for each day, and whether it's **hot, warm, or cold** (based on what temperatures you think are hot, warm or cold).\n",
    "\n",
    "- *Tip: You'll need to use an `if` statement to say whether it is hot, warm or cold.*"
   ]
  },
  {
   "cell_type": "markdown",
   "metadata": {},
   "source": [
    "I requested next three days' predictions for the previous question. Printing data on temperatures from that and adding conditionals based on my idea of what is hot, warm and cold. I have assigned all temperatures above 30 degree celsius to be hot, all below 16 degree celsius to be cold and everything else warm."
   ]
  },
  {
   "cell_type": "code",
   "execution_count": 17,
   "metadata": {},
   "outputs": [
    {
     "name": "stdout",
     "output_type": "stream",
     "text": [
      "The high temperature for 2022-06-19 is 32.2 degree celsius. That is hot!\n",
      "The high temperature for 2022-06-20 is 29.6 degree celsius. That is warm.\n",
      "The high temperature for 2022-06-21 is 30.2 degree celsius. That is hot!\n"
     ]
    }
   ],
   "source": [
    "for day in vasai_forecast['forecast']['forecastday']:\n",
    "    if day['day']['maxtemp_c']>=30:\n",
    "        print(f\"The high temperature for {day['date']} is {day['day']['maxtemp_c']} degree celsius. That is hot!\")\n",
    "    elif day['day']['maxtemp_c']<=16:\n",
    "        print(f\"The high temperature for {day['date']} is {day['day']['maxtemp_c']} degree celsius. That is cold!\")\n",
    "    else:\n",
    "        print(f\"The high temperature for {day['date']} is {day['day']['maxtemp_c']} degree celsius. That is warm.\")"
   ]
  },
  {
   "cell_type": "markdown",
   "metadata": {},
   "source": [
    "## 5b) The question above used to be an entire week, but not any more. Try to re-use the code above to print out seven days.\n",
    "\n",
    "What happens? Can you figure out why it doesn't work?\n",
    "\n",
    "* *Tip: it has to do with the reason you're using an API key - maybe take a look at the \"Air Quality Data\" introduction for a hint? If you can't figure it out right now, no worries.*"
   ]
  },
  {
   "cell_type": "markdown",
   "metadata": {},
   "source": [
    "The free version of the API only provides data for 3 days as stated on the [pricing page](https://www.weatherapi.com/pricing.aspx)"
   ]
  },
  {
   "cell_type": "markdown",
   "metadata": {},
   "source": [
    "## 6) What will be the hottest day in the next three days? What is the high temperature on that day?"
   ]
  },
  {
   "cell_type": "markdown",
   "metadata": {},
   "source": [
    "First, creating a list comprehension and using the max function on it to find out the max value of highest temperatures."
   ]
  },
  {
   "cell_type": "code",
   "execution_count": 18,
   "metadata": {},
   "outputs": [],
   "source": [
    "highest_temp=max([day['day']['maxtemp_c'] for day in vasai_forecast['forecast']['forecastday']])"
   ]
  },
  {
   "cell_type": "markdown",
   "metadata": {},
   "source": [
    "Now, creating a conditional to find the hottest day in the next three days"
   ]
  },
  {
   "cell_type": "code",
   "execution_count": 19,
   "metadata": {},
   "outputs": [
    {
     "name": "stdout",
     "output_type": "stream",
     "text": [
      "The hottest day in the next three days will be 2022-06-19 with a maximum temperature of 32.2\n"
     ]
    }
   ],
   "source": [
    "for day in vasai_forecast['forecast']['forecastday']:\n",
    "    if day['day']['maxtemp_c']==highest_temp:\n",
    "        print(f\"The hottest day in the next three days will be {day['date']} with a maximum temperature of {day['day']['maxtemp_c']}\")"
   ]
  },
  {
   "cell_type": "markdown",
   "metadata": {},
   "source": [
    "## 7) What's the weather looking like for the next 24+ hours in Miami, Florida?\n",
    "\n",
    "I'd like to know the temperature for every hour, and if it's going to have cloud cover of more than 50% say \"{temperature} and cloudy\" instead of just the temperature. \n",
    "\n",
    "- *Tip: You'll only need one day of forecast*"
   ]
  },
  {
   "cell_type": "markdown",
   "metadata": {},
   "source": [
    "Requesting one day forecast data for Miami"
   ]
  },
  {
   "cell_type": "code",
   "execution_count": 20,
   "metadata": {},
   "outputs": [],
   "source": [
    "miami_url=\"https://api.weatherapi.com/v1/forecast.json?key=e9e2ab61a22a4e12b81111053221506&q=miami&days=1&aqi=no&alerts=no\""
   ]
  },
  {
   "cell_type": "code",
   "execution_count": 21,
   "metadata": {},
   "outputs": [],
   "source": [
    "response_miami=requests.get(miami_url)"
   ]
  },
  {
   "cell_type": "code",
   "execution_count": 22,
   "metadata": {},
   "outputs": [],
   "source": [
    "miami_data=response_miami.json()"
   ]
  },
  {
   "cell_type": "markdown",
   "metadata": {},
   "source": [
    "Creating a for loop for the list called 'hour' which has data on hourly forecasts. Also added a conditional based on the element 'cloud' which has cloud coverage data as %"
   ]
  },
  {
   "cell_type": "code",
   "execution_count": 23,
   "metadata": {},
   "outputs": [
    {
     "name": "stdout",
     "output_type": "stream",
     "text": [
      "Here is the hourly forecast for Miami for the next 24 hours.\n",
      "2022-06-18 00:00: 28.4\n",
      "2022-06-18 01:00: 28.5 and cloudy\n",
      "2022-06-18 02:00: 28.4 and cloudy\n",
      "2022-06-18 03:00: 28.4 and cloudy\n",
      "2022-06-18 04:00: 28.2 and cloudy\n",
      "2022-06-18 05:00: 27.7\n",
      "2022-06-18 06:00: 27.6\n",
      "2022-06-18 07:00: 27.6\n",
      "2022-06-18 08:00: 27.7\n",
      "2022-06-18 09:00: 28.0\n",
      "2022-06-18 10:00: 28.3\n",
      "2022-06-18 11:00: 31.7\n",
      "2022-06-18 12:00: 32.0\n",
      "2022-06-18 13:00: 32.4\n",
      "2022-06-18 14:00: 32.6\n",
      "2022-06-18 15:00: 32.6\n",
      "2022-06-18 16:00: 32.4\n",
      "2022-06-18 17:00: 31.9\n",
      "2022-06-18 18:00: 31.1\n",
      "2022-06-18 19:00: 30.3\n",
      "2022-06-18 20:00: 29.6\n",
      "2022-06-18 21:00: 29.5\n",
      "2022-06-18 22:00: 29.6\n",
      "2022-06-18 23:00: 29.5\n"
     ]
    }
   ],
   "source": [
    "print(f\"Here is the hourly forecast for Miami for the next 24 hours.\")\n",
    "for hours in miami_data['forecast']['forecastday'][0]['hour']:\n",
    "    if (hours['cloud'])>50:\n",
    "        print(f\"{hours['time']}: {hours['temp_c']} and cloudy\")\n",
    "    else:\n",
    "        print(f\"{hours['time']}: {hours['temp_c']}\")\n",
    "          "
   ]
  },
  {
   "cell_type": "markdown",
   "metadata": {},
   "source": [
    "## 8) For the next 24-ish hours in Miami, what percent of the time is the temperature above 85 degrees?\n",
    "\n",
    "- *Tip: You might want to read up on [looping patterns](http://jonathansoma.com/lede/foundations-2017/classes/data%20structures/looping-patterns/)*"
   ]
  },
  {
   "cell_type": "markdown",
   "metadata": {},
   "source": [
    "I am assuming you of course mean 85 degree fahrenheit. Assigning a 0 value to count and then creating a conditional for the 'temp_f' element in the 'hour' list"
   ]
  },
  {
   "cell_type": "code",
   "execution_count": 24,
   "metadata": {},
   "outputs": [],
   "source": [
    "count=0\n",
    "for hours in miami_data['forecast']['forecastday'][0]['hour']:\n",
    "    if hours['temp_f']>85:\n",
    "        count=count+1"
   ]
  },
  {
   "cell_type": "markdown",
   "metadata": {},
   "source": [
    "Now, calculating percentage by dividing count by 24 and multiplying by 100."
   ]
  },
  {
   "cell_type": "code",
   "execution_count": 25,
   "metadata": {},
   "outputs": [
    {
     "name": "stdout",
     "output_type": "stream",
     "text": [
      "For the next 24-ish hours in Miami, the temperature will be above 85 degrees fahrenheit 54.2% of the time\n"
     ]
    }
   ],
   "source": [
    "print(f\"For the next 24-ish hours in Miami, the temperature will be above 85 degrees fahrenheit {count/24*100:.1f}% of the time\")"
   ]
  },
  {
   "cell_type": "markdown",
   "metadata": {},
   "source": [
    "## 9) How much will it cost if you need to use 1,500,000 API calls?\n",
    "\n",
    "You are only allowed 1,000,000 API calls each month. If you were really bad at this homework or made some awful loops, WeatherAPI might shut down your free access. \n",
    "\n",
    "* *Tip: this involves looking somewhere that isn't the normal documentation.*"
   ]
  },
  {
   "cell_type": "markdown",
   "metadata": {},
   "source": [
    "It would cost $4 per month to be able to use 1.5 million API calls. It is mentioned on the [pricing page](https://www.weatherapi.com/pricing.aspx)"
   ]
  },
  {
   "cell_type": "markdown",
   "metadata": {},
   "source": [
    "## 10) You're too poor to spend more money! What else could you do instead of give them money?\n",
    "\n",
    "* *Tip: I'm not endorsing being sneaky, but newsrooms and students are both generally poverty-stricken.*"
   ]
  },
  {
   "cell_type": "markdown",
   "metadata": {},
   "source": [
    "I think the best option would be to create multiple (would only need 2 if we only need 1.5 million calls) and split the requests between those IDs so that it would be equally distributed. This way, around 750,000 requests can be used on 1 ID."
   ]
  }
 ],
 "metadata": {
  "kernelspec": {
   "display_name": "Python 3 (ipykernel)",
   "language": "python",
   "name": "python3"
  },
  "language_info": {
   "codemirror_mode": {
    "name": "ipython",
    "version": 3
   },
   "file_extension": ".py",
   "mimetype": "text/x-python",
   "name": "python",
   "nbconvert_exporter": "python",
   "pygments_lexer": "ipython3",
   "version": "3.10.3"
  }
 },
 "nbformat": 4,
 "nbformat_minor": 1
}
